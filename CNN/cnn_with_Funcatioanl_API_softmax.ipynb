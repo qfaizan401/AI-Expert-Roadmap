{
  "nbformat": 4,
  "nbformat_minor": 0,
  "metadata": {
    "colab": {
      "provenance": [],
      "collapsed_sections": [],
      "mount_file_id": "1G8rhq2w-tyC7lCiuuEvrO8M04Mh6ftZw",
      "authorship_tag": "ABX9TyNxxHIhYONPxKFQq8j5ZqPw",
      "include_colab_link": true
    },
    "kernelspec": {
      "name": "python3",
      "display_name": "Python 3"
    },
    "language_info": {
      "name": "python"
    },
    "accelerator": "GPU"
  },
  "cells": [
    {
      "cell_type": "markdown",
      "metadata": {
        "id": "view-in-github",
        "colab_type": "text"
      },
      "source": [
        "<a href=\"https://colab.research.google.com/github/qfaizan401/AI-Expert-Roadmap/blob/main/CNN/cnn_with_Funcatioanl_API_softmax.ipynb\" target=\"_parent\"><img src=\"https://colab.research.google.com/assets/colab-badge.svg\" alt=\"Open In Colab\"/></a>"
      ]
    },
    {
      "cell_type": "code",
      "source": [
        "from google.colab import drive\n",
        "drive.mount('/content/drive')"
      ],
      "metadata": {
        "colab": {
          "base_uri": "https://localhost:8080/"
        },
        "id": "COPE94U-j2fz",
        "outputId": "7b6254c0-4be8-485a-c3dc-d52533578b1d"
      },
      "execution_count": 1,
      "outputs": [
        {
          "output_type": "stream",
          "name": "stdout",
          "text": [
            "Drive already mounted at /content/drive; to attempt to forcibly remount, call drive.mount(\"/content/drive\", force_remount=True).\n"
          ]
        }
      ]
    },
    {
      "cell_type": "code",
      "source": [
        "from keras.preprocessing.image import ImageDataGenerator\n",
        "\n",
        "train_dir = '/content/drive/MyDrive/mel_spectrogram_10x/train'\n",
        "val_dir = '/content/drive/MyDrive/mel_spectrogram_10x/val'\n",
        "\n",
        "train_datagen = ImageDataGenerator(rescale=1./255)\n",
        "\n",
        "train_generator = train_datagen.flow_from_directory(train_dir,\n",
        "                                                    class_mode='categorical')\n",
        "\n",
        "val_datagen = ImageDataGenerator(rescale=1./255)\n",
        "\n",
        "val_generator = val_datagen.flow_from_directory(val_dir,\n",
        "                                                class_mode='categorical')"
      ],
      "metadata": {
        "colab": {
          "base_uri": "https://localhost:8080/"
        },
        "id": "c3IAG91jkeIL",
        "outputId": "3bdfb512-2898-45f9-b31b-8c37bc6432de"
      },
      "execution_count": 2,
      "outputs": [
        {
          "output_type": "stream",
          "name": "stdout",
          "text": [
            "Found 7000 images belonging to 10 classes.\n",
            "Found 2000 images belonging to 10 classes.\n"
          ]
        }
      ]
    },
    {
      "cell_type": "code",
      "source": [
        "for data_batch, labels_batch in train_generator:\n",
        "    print('data batch shape:', data_batch.shape)\n",
        "    print('labels batch shape:', labels_batch.shape)\n",
        "    break"
      ],
      "metadata": {
        "colab": {
          "base_uri": "https://localhost:8080/"
        },
        "id": "6vxs6OKOkeFc",
        "outputId": "0953a445-e157-470e-8884-2a466d5e6dc3"
      },
      "execution_count": 3,
      "outputs": [
        {
          "output_type": "stream",
          "name": "stdout",
          "text": [
            "data batch shape: (32, 256, 256, 3)\n",
            "labels batch shape: (32, 10)\n"
          ]
        }
      ]
    },
    {
      "cell_type": "code",
      "source": [
        "import tensorflow as tf\n",
        "print(tf.__version__)"
      ],
      "metadata": {
        "colab": {
          "base_uri": "https://localhost:8080/"
        },
        "id": "owqsckZgkeDa",
        "outputId": "9468693a-4e38-41c9-848c-3d984c90944a"
      },
      "execution_count": 4,
      "outputs": [
        {
          "output_type": "stream",
          "name": "stdout",
          "text": [
            "2.8.2\n"
          ]
        }
      ]
    },
    {
      "cell_type": "code",
      "source": [
        "def cnn_model (data_batch):\n",
        "  input = tf.keras.Input(shape=(data_batch.shape[1], \n",
        "                                data_batch.shape[2], \n",
        "                                data_batch.shape[3]))\n",
        "  \n",
        "  cnn_1 = tf.keras.layers.Conv2D(filters = 64, \n",
        "                             kernel_size = (3, 3), \n",
        "                             activation='relu',\n",
        "                             input_shape=(256, 256, 3))(input)\n",
        "  mp_1 = tf.keras.layers.MaxPool2D((2,2))(cnn_1)\n",
        "\n",
        "  cnn_2 = tf.keras.layers.Conv2D(filters = 64, \n",
        "                             kernel_size = (3,3),\n",
        "                             activation = 'relu')(mp_1)\n",
        "  mp_2 = tf.keras.layers.MaxPool2D((2,2))(cnn_2)\n",
        "\n",
        "  cnn_3 = tf.keras.layers.Conv2D(filters = 64, \n",
        "                             kernel_size = (3,3),\n",
        "                             activation = 'relu')(mp_2)\n",
        "  mp_3 = tf.keras.layers.MaxPool2D((2,2))(cnn_3)\n",
        "\n",
        "  cnn_4 = tf.keras.layers.Conv2D(filters = 64, \n",
        "                             kernel_size = (3,3),\n",
        "                             activation = 'relu')(mp_3)\n",
        "  mp_4 = tf.keras.layers.MaxPool2D((2,2))(cnn_4)\n",
        "\n",
        "  cnn_5 = tf.keras.layers.Conv2D(filters = 64, \n",
        "                             kernel_size = (3,3),\n",
        "                             activation = 'relu')(mp_4)\n",
        "  mp_5 = tf.keras.layers.MaxPool2D((2,2))(cnn_5)\n",
        "\n",
        "  cnn_6 = tf.keras.layers.Conv2D(filters = 64, \n",
        "                             kernel_size = (3,3),\n",
        "                             activation = 'relu')(mp_5)\n",
        "  mp_6 = tf.keras.layers.MaxPool2D((2,2))(cnn_6)\n",
        "\n",
        "  flat = tf.keras.layers.Flatten()((mp_6))\n",
        "\n",
        "  drop = tf.keras.layers.Dropout(rate = 0.5)(flat)\n",
        "\n",
        "  dense_1 = tf.keras.layers.Dense(units = 64, activation='relu')(drop)\n",
        "\n",
        "  output = tf.keras.layers.Dense(units = 10, activation='softmax')(dense_1)\n",
        "\n",
        "  model = tf.keras.Model(inputs=input, outputs=output, name=\"music_classifier\")\n",
        "  print(model.summary())\n",
        "\n",
        "  return model"
      ],
      "metadata": {
        "id": "9AXz3n_1keAT"
      },
      "execution_count": 5,
      "outputs": []
    },
    {
      "cell_type": "code",
      "source": [
        "model = cnn_model(data_batch)"
      ],
      "metadata": {
        "colab": {
          "base_uri": "https://localhost:8080/"
        },
        "id": "nh24RG2mlHxR",
        "outputId": "9cbd9235-35b5-4cbe-c960-75f9508c86b7"
      },
      "execution_count": 6,
      "outputs": [
        {
          "output_type": "stream",
          "name": "stdout",
          "text": [
            "Model: \"music_classifier\"\n",
            "_________________________________________________________________\n",
            " Layer (type)                Output Shape              Param #   \n",
            "=================================================================\n",
            " input_1 (InputLayer)        [(None, 256, 256, 3)]     0         \n",
            "                                                                 \n",
            " conv2d (Conv2D)             (None, 254, 254, 64)      1792      \n",
            "                                                                 \n",
            " max_pooling2d (MaxPooling2D  (None, 127, 127, 64)     0         \n",
            " )                                                               \n",
            "                                                                 \n",
            " conv2d_1 (Conv2D)           (None, 125, 125, 64)      36928     \n",
            "                                                                 \n",
            " max_pooling2d_1 (MaxPooling  (None, 62, 62, 64)       0         \n",
            " 2D)                                                             \n",
            "                                                                 \n",
            " conv2d_2 (Conv2D)           (None, 60, 60, 64)        36928     \n",
            "                                                                 \n",
            " max_pooling2d_2 (MaxPooling  (None, 30, 30, 64)       0         \n",
            " 2D)                                                             \n",
            "                                                                 \n",
            " conv2d_3 (Conv2D)           (None, 28, 28, 64)        36928     \n",
            "                                                                 \n",
            " max_pooling2d_3 (MaxPooling  (None, 14, 14, 64)       0         \n",
            " 2D)                                                             \n",
            "                                                                 \n",
            " conv2d_4 (Conv2D)           (None, 12, 12, 64)        36928     \n",
            "                                                                 \n",
            " max_pooling2d_4 (MaxPooling  (None, 6, 6, 64)         0         \n",
            " 2D)                                                             \n",
            "                                                                 \n",
            " conv2d_5 (Conv2D)           (None, 4, 4, 64)          36928     \n",
            "                                                                 \n",
            " max_pooling2d_5 (MaxPooling  (None, 2, 2, 64)         0         \n",
            " 2D)                                                             \n",
            "                                                                 \n",
            " flatten (Flatten)           (None, 256)               0         \n",
            "                                                                 \n",
            " dropout (Dropout)           (None, 256)               0         \n",
            "                                                                 \n",
            " dense (Dense)               (None, 64)                16448     \n",
            "                                                                 \n",
            " dense_1 (Dense)             (None, 10)                650       \n",
            "                                                                 \n",
            "=================================================================\n",
            "Total params: 203,530\n",
            "Trainable params: 203,530\n",
            "Non-trainable params: 0\n",
            "_________________________________________________________________\n",
            "None\n"
          ]
        }
      ]
    },
    {
      "cell_type": "code",
      "source": [
        "model.compile(loss='categorical_crossentropy',\n",
        "              optimizer=tf.keras.optimizers.RMSprop(learning_rate=0.0001),\n",
        "              metrics=['acc'])"
      ],
      "metadata": {
        "id": "x_sags2XlJuz"
      },
      "execution_count": 7,
      "outputs": []
    },
    {
      "cell_type": "code",
      "source": [
        "callback = tf.keras.callbacks.EarlyStopping(monitor='acc', \n",
        "                                             patience=3, \n",
        "                                             verbose=1, \n",
        "                                             mode='max', \n",
        "                                             restore_best_weights=True)"
      ],
      "metadata": {
        "id": "HA0kQGo-lNBf"
      },
      "execution_count": 8,
      "outputs": []
    },
    {
      "cell_type": "code",
      "source": [
        "history = model.fit(train_generator,\n",
        "                    epochs=500,\n",
        "                    batch_size=20,\n",
        "                    validation_data=val_generator,\n",
        "                    callbacks=[callback])"
      ],
      "metadata": {
        "colab": {
          "base_uri": "https://localhost:8080/"
        },
        "id": "pJnBKhzSlO8N",
        "outputId": "10b033d3-b81c-4e34-f82b-5cc8253c2bc7"
      },
      "execution_count": 10,
      "outputs": [
        {
          "output_type": "stream",
          "name": "stdout",
          "text": [
            "Epoch 1/500\n",
            "219/219 [==============================] - 4448s 20s/step - loss: 2.2169 - acc: 0.1824 - val_loss: 2.0898 - val_acc: 0.2700\n",
            "Epoch 2/500\n",
            "219/219 [==============================] - 27s 123ms/step - loss: 2.1014 - acc: 0.2291 - val_loss: 2.0684 - val_acc: 0.2570\n",
            "Epoch 3/500\n",
            "219/219 [==============================] - 27s 124ms/step - loss: 2.0281 - acc: 0.2690 - val_loss: 2.0147 - val_acc: 0.3020\n",
            "Epoch 4/500\n",
            "219/219 [==============================] - 28s 126ms/step - loss: 1.9303 - acc: 0.3136 - val_loss: 1.8589 - val_acc: 0.3335\n",
            "Epoch 5/500\n",
            "219/219 [==============================] - 27s 123ms/step - loss: 1.8136 - acc: 0.3541 - val_loss: 1.7759 - val_acc: 0.3260\n",
            "Epoch 6/500\n",
            "219/219 [==============================] - 27s 123ms/step - loss: 1.7408 - acc: 0.3716 - val_loss: 1.7559 - val_acc: 0.3140\n",
            "Epoch 7/500\n",
            "219/219 [==============================] - 27s 123ms/step - loss: 1.6790 - acc: 0.3910 - val_loss: 1.7954 - val_acc: 0.3135\n",
            "Epoch 8/500\n",
            "219/219 [==============================] - 27s 123ms/step - loss: 1.6371 - acc: 0.4063 - val_loss: 1.6373 - val_acc: 0.3705\n",
            "Epoch 9/500\n",
            "219/219 [==============================] - 27s 125ms/step - loss: 1.5976 - acc: 0.4233 - val_loss: 1.6619 - val_acc: 0.3590\n",
            "Epoch 10/500\n",
            "219/219 [==============================] - 27s 123ms/step - loss: 1.5693 - acc: 0.4399 - val_loss: 1.8512 - val_acc: 0.3045\n",
            "Epoch 11/500\n",
            "219/219 [==============================] - 27s 123ms/step - loss: 1.5314 - acc: 0.4504 - val_loss: 1.6415 - val_acc: 0.3880\n",
            "Epoch 12/500\n",
            "219/219 [==============================] - 27s 123ms/step - loss: 1.5016 - acc: 0.4647 - val_loss: 1.6186 - val_acc: 0.4080\n",
            "Epoch 13/500\n",
            "219/219 [==============================] - 27s 123ms/step - loss: 1.4603 - acc: 0.4803 - val_loss: 1.5617 - val_acc: 0.4000\n",
            "Epoch 14/500\n",
            "219/219 [==============================] - 27s 123ms/step - loss: 1.4345 - acc: 0.4937 - val_loss: 1.5779 - val_acc: 0.4105\n",
            "Epoch 15/500\n",
            "219/219 [==============================] - 28s 126ms/step - loss: 1.4068 - acc: 0.4986 - val_loss: 1.6910 - val_acc: 0.3775\n",
            "Epoch 16/500\n",
            "219/219 [==============================] - 27s 124ms/step - loss: 1.3956 - acc: 0.5044 - val_loss: 1.7414 - val_acc: 0.3485\n",
            "Epoch 17/500\n",
            "219/219 [==============================] - 27s 123ms/step - loss: 1.3719 - acc: 0.5036 - val_loss: 1.5178 - val_acc: 0.4385\n",
            "Epoch 18/500\n",
            "219/219 [==============================] - 27s 124ms/step - loss: 1.3374 - acc: 0.5214 - val_loss: 1.5181 - val_acc: 0.4425\n",
            "Epoch 19/500\n",
            "219/219 [==============================] - 27s 123ms/step - loss: 1.3211 - acc: 0.5300 - val_loss: 1.5021 - val_acc: 0.4550\n",
            "Epoch 20/500\n",
            "219/219 [==============================] - 27s 125ms/step - loss: 1.2982 - acc: 0.5463 - val_loss: 1.5000 - val_acc: 0.4420\n",
            "Epoch 21/500\n",
            "219/219 [==============================] - 27s 123ms/step - loss: 1.2759 - acc: 0.5536 - val_loss: 1.4852 - val_acc: 0.4765\n",
            "Epoch 22/500\n",
            "219/219 [==============================] - 27s 123ms/step - loss: 1.2513 - acc: 0.5541 - val_loss: 1.5144 - val_acc: 0.4645\n",
            "Epoch 23/500\n",
            "219/219 [==============================] - 27s 122ms/step - loss: 1.2302 - acc: 0.5686 - val_loss: 1.4955 - val_acc: 0.4620\n",
            "Epoch 24/500\n",
            "219/219 [==============================] - 27s 123ms/step - loss: 1.2170 - acc: 0.5653 - val_loss: 1.4286 - val_acc: 0.4915\n",
            "Epoch 25/500\n",
            "219/219 [==============================] - 28s 125ms/step - loss: 1.1982 - acc: 0.5724 - val_loss: 1.5139 - val_acc: 0.4820\n",
            "Epoch 26/500\n",
            "219/219 [==============================] - 27s 123ms/step - loss: 1.1823 - acc: 0.5789 - val_loss: 1.4864 - val_acc: 0.4880\n",
            "Epoch 27/500\n",
            "219/219 [==============================] - 27s 124ms/step - loss: 1.1662 - acc: 0.5831 - val_loss: 1.3918 - val_acc: 0.5085\n",
            "Epoch 28/500\n",
            "219/219 [==============================] - 27s 123ms/step - loss: 1.1392 - acc: 0.5933 - val_loss: 1.5131 - val_acc: 0.4580\n",
            "Epoch 29/500\n",
            "219/219 [==============================] - 27s 123ms/step - loss: 1.1294 - acc: 0.6090 - val_loss: 1.5292 - val_acc: 0.4680\n",
            "Epoch 30/500\n",
            "219/219 [==============================] - 27s 123ms/step - loss: 1.1069 - acc: 0.6051 - val_loss: 1.4308 - val_acc: 0.4975\n",
            "Epoch 31/500\n",
            "219/219 [==============================] - 28s 126ms/step - loss: 1.0959 - acc: 0.6091 - val_loss: 1.4479 - val_acc: 0.4965\n",
            "Epoch 32/500\n",
            "219/219 [==============================] - 27s 123ms/step - loss: 1.0795 - acc: 0.6169 - val_loss: 1.3794 - val_acc: 0.5220\n",
            "Epoch 33/500\n",
            "219/219 [==============================] - 27s 124ms/step - loss: 1.0644 - acc: 0.6277 - val_loss: 1.4317 - val_acc: 0.4965\n",
            "Epoch 34/500\n",
            "219/219 [==============================] - 27s 123ms/step - loss: 1.0480 - acc: 0.6313 - val_loss: 1.4050 - val_acc: 0.5295\n",
            "Epoch 35/500\n",
            "219/219 [==============================] - 27s 123ms/step - loss: 1.0439 - acc: 0.6341 - val_loss: 1.4442 - val_acc: 0.5015\n",
            "Epoch 36/500\n",
            "219/219 [==============================] - 28s 127ms/step - loss: 1.0125 - acc: 0.6460 - val_loss: 1.3845 - val_acc: 0.5240\n",
            "Epoch 37/500\n",
            "219/219 [==============================] - 27s 123ms/step - loss: 0.9975 - acc: 0.6511 - val_loss: 1.7609 - val_acc: 0.4485\n",
            "Epoch 38/500\n",
            "219/219 [==============================] - 27s 123ms/step - loss: 0.9947 - acc: 0.6540 - val_loss: 1.4763 - val_acc: 0.5215\n",
            "Epoch 39/500\n",
            "219/219 [==============================] - 27s 124ms/step - loss: 0.9736 - acc: 0.6574 - val_loss: 1.4578 - val_acc: 0.5000\n",
            "Epoch 40/500\n",
            "219/219 [==============================] - 27s 123ms/step - loss: 0.9580 - acc: 0.6564 - val_loss: 1.4130 - val_acc: 0.5140\n",
            "Epoch 41/500\n",
            "219/219 [==============================] - 27s 125ms/step - loss: 0.9494 - acc: 0.6693 - val_loss: 1.5252 - val_acc: 0.4990\n",
            "Epoch 42/500\n",
            "219/219 [==============================] - 27s 124ms/step - loss: 0.9244 - acc: 0.6700 - val_loss: 1.5223 - val_acc: 0.4995\n",
            "Epoch 43/500\n",
            "219/219 [==============================] - 27s 123ms/step - loss: 0.9259 - acc: 0.6739 - val_loss: 1.4270 - val_acc: 0.5165\n",
            "Epoch 44/500\n",
            "219/219 [==============================] - 27s 123ms/step - loss: 0.9063 - acc: 0.6837 - val_loss: 1.6944 - val_acc: 0.4645\n",
            "Epoch 45/500\n",
            "219/219 [==============================] - 27s 123ms/step - loss: 0.8993 - acc: 0.6866 - val_loss: 1.5549 - val_acc: 0.5180\n",
            "Epoch 46/500\n",
            "219/219 [==============================] - 27s 123ms/step - loss: 0.8886 - acc: 0.6911 - val_loss: 1.5624 - val_acc: 0.5110\n",
            "Epoch 47/500\n",
            "219/219 [==============================] - 28s 126ms/step - loss: 0.8797 - acc: 0.6943 - val_loss: 1.4034 - val_acc: 0.5325\n",
            "Epoch 48/500\n",
            "219/219 [==============================] - 27s 124ms/step - loss: 0.8740 - acc: 0.6936 - val_loss: 1.4483 - val_acc: 0.5300\n",
            "Epoch 49/500\n",
            "219/219 [==============================] - 27s 123ms/step - loss: 0.8570 - acc: 0.7010 - val_loss: 1.5277 - val_acc: 0.5250\n",
            "Epoch 50/500\n",
            "219/219 [==============================] - 27s 124ms/step - loss: 0.8571 - acc: 0.7021 - val_loss: 1.5667 - val_acc: 0.5270\n",
            "Epoch 51/500\n",
            "219/219 [==============================] - 27s 123ms/step - loss: 0.8476 - acc: 0.7090 - val_loss: 1.7693 - val_acc: 0.5085\n",
            "Epoch 52/500\n",
            "219/219 [==============================] - 28s 126ms/step - loss: 0.8389 - acc: 0.7130 - val_loss: 1.5524 - val_acc: 0.5105\n",
            "Epoch 53/500\n",
            "219/219 [==============================] - 27s 123ms/step - loss: 0.8080 - acc: 0.7203 - val_loss: 1.4107 - val_acc: 0.5415\n",
            "Epoch 54/500\n",
            "219/219 [==============================] - 27s 124ms/step - loss: 0.8072 - acc: 0.7170 - val_loss: 1.5165 - val_acc: 0.5315\n",
            "Epoch 55/500\n",
            "219/219 [==============================] - 27s 124ms/step - loss: 0.7972 - acc: 0.7214 - val_loss: 1.3868 - val_acc: 0.5310\n",
            "Epoch 56/500\n",
            "219/219 [==============================] - 27s 124ms/step - loss: 0.7827 - acc: 0.7284 - val_loss: 1.5108 - val_acc: 0.5495\n",
            "Epoch 57/500\n",
            "219/219 [==============================] - 28s 126ms/step - loss: 0.7848 - acc: 0.7321 - val_loss: 1.4946 - val_acc: 0.5345\n",
            "Epoch 58/500\n",
            "219/219 [==============================] - 27s 123ms/step - loss: 0.7669 - acc: 0.7316 - val_loss: 1.4388 - val_acc: 0.5405\n",
            "Epoch 59/500\n",
            "219/219 [==============================] - 27s 124ms/step - loss: 0.7581 - acc: 0.7357 - val_loss: 1.7765 - val_acc: 0.4830\n",
            "Epoch 60/500\n",
            "219/219 [==============================] - 27s 124ms/step - loss: 0.7516 - acc: 0.7406 - val_loss: 1.6184 - val_acc: 0.5430\n",
            "Epoch 61/500\n",
            "219/219 [==============================] - 27s 124ms/step - loss: 0.7415 - acc: 0.7416 - val_loss: 1.4867 - val_acc: 0.5475\n",
            "Epoch 62/500\n",
            "219/219 [==============================] - 27s 124ms/step - loss: 0.7244 - acc: 0.7487 - val_loss: 1.4282 - val_acc: 0.5610\n",
            "Epoch 63/500\n",
            "219/219 [==============================] - 28s 127ms/step - loss: 0.7225 - acc: 0.7459 - val_loss: 1.5368 - val_acc: 0.5420\n",
            "Epoch 64/500\n",
            "219/219 [==============================] - 27s 125ms/step - loss: 0.6968 - acc: 0.7630 - val_loss: 1.5578 - val_acc: 0.5475\n",
            "Epoch 65/500\n",
            "219/219 [==============================] - 27s 123ms/step - loss: 0.6860 - acc: 0.7607 - val_loss: 1.5881 - val_acc: 0.5215\n",
            "Epoch 66/500\n",
            "219/219 [==============================] - 27s 124ms/step - loss: 0.6853 - acc: 0.7604 - val_loss: 1.5526 - val_acc: 0.5345\n",
            "Epoch 67/500\n",
            "219/219 [==============================] - ETA: 0s - loss: 0.6878 - acc: 0.7621Restoring model weights from the end of the best epoch: 64.\n",
            "219/219 [==============================] - 27s 124ms/step - loss: 0.6878 - acc: 0.7621 - val_loss: 1.5073 - val_acc: 0.5335\n",
            "Epoch 67: early stopping\n"
          ]
        }
      ]
    },
    {
      "cell_type": "code",
      "source": [
        "path = '/content/drive/MyDrive/Colab Notebooks/cnn_with_Functional_API_softmax.h5'\n",
        "model.save(path)"
      ],
      "metadata": {
        "id": "BEVmJ_pIlQxJ"
      },
      "execution_count": 11,
      "outputs": []
    },
    {
      "cell_type": "code",
      "source": [
        "import matplotlib.pyplot as plt\n",
        "\n",
        "# summarize history for accuracy\n",
        "plt.plot(history.history['acc'])\n",
        "plt.plot(history.history['val_acc'])\n",
        "plt.title('model accuracy')\n",
        "plt.ylabel('accuracy')\n",
        "plt.xlabel('epoch')\n",
        "plt.legend(['train', 'test'], loc='upper left')\n",
        "plt.show()\n",
        "# summarize history for loss\n",
        "plt.plot(history.history['loss'])\n",
        "plt.plot(history.history['val_loss'])\n",
        "plt.title('model loss')\n",
        "plt.ylabel('loss')\n",
        "plt.xlabel('epoch')\n",
        "plt.legend(['train', 'test'], loc='upper left')\n",
        "plt.show()"
      ],
      "metadata": {
        "colab": {
          "base_uri": "https://localhost:8080/",
          "height": 573
        },
        "id": "u1452dOXLRxv",
        "outputId": "01108d01-72f0-48b3-bd4c-224ec9ad34ee"
      },
      "execution_count": 12,
      "outputs": [
        {
          "output_type": "display_data",
          "data": {
            "text/plain": [
              "<Figure size 432x288 with 1 Axes>"
            ],
            "image/png": "[encoded data removed]"
          },
          "metadata": {
            "needs_background": "light"
          }
        },
        {
          "output_type": "display_data",
          "data": {
            "text/plain": [
              "<Figure size 432x288 with 1 Axes>"
            ],
            "image/png": "[encoded data removed]"
          },
          "metadata": {
            "needs_background": "light"
          }
        }
      ]
    },
    {
      "cell_type": "code",
      "source": [
        "from keras.preprocessing.image import ImageDataGenerator\n",
        "\n",
        "test_dir = '/content/drive/MyDrive/mel_spectrogram_10x/test'\n",
        "\n",
        "test_datagen = ImageDataGenerator(rescale=1./255)\n",
        "\n",
        "test_generator = test_datagen.flow_from_directory(test_dir,\n",
        "                                                    class_mode='categorical')"
      ],
      "metadata": {
        "colab": {
          "base_uri": "https://localhost:8080/"
        },
        "id": "QJSP5omuLRjd",
        "outputId": "79179901-0bd2-4601-abb4-45b2a6b1b56e"
      },
      "execution_count": 5,
      "outputs": [
        {
          "output_type": "stream",
          "name": "stdout",
          "text": [
            "Found 990 images belonging to 10 classes.\n"
          ]
        }
      ]
    },
    {
      "cell_type": "code",
      "source": [
        "for data_batch, labels_batch in test_generator:\n",
        "    print('data batch shape:', data_batch.shape)\n",
        "    print('labels batch shape:', labels_batch.shape)\n",
        "    break"
      ],
      "metadata": {
        "colab": {
          "base_uri": "https://localhost:8080/"
        },
        "id": "ZcxYmDJVLXng",
        "outputId": "d0e650b5-88f8-4ecb-fe1e-e8af0d3f522b"
      },
      "execution_count": 6,
      "outputs": [
        {
          "output_type": "stream",
          "name": "stdout",
          "text": [
            "data batch shape: (32, 256, 256, 3)\n",
            "labels batch shape: (32, 10)\n"
          ]
        }
      ]
    },
    {
      "cell_type": "code",
      "source": [
        "import tensorflow as tf\n",
        "\n",
        "model = tf.keras.models.load_model('/content/drive/MyDrive/Colab Notebooks/cnn_with_Functional_API_softmax.h5')"
      ],
      "metadata": {
        "id": "9voQ_JLYMYDp"
      },
      "execution_count": 3,
      "outputs": []
    },
    {
      "cell_type": "code",
      "source": [
        "scores = model.evaluate(test_generator, verbose=0)\n",
        "print(f'Test Accuracy: {round(scores[1]*100)}%')"
      ],
      "metadata": {
        "colab": {
          "base_uri": "https://localhost:8080/"
        },
        "id": "o0NT5ijaLZu3",
        "outputId": "fa82fc29-1d4c-49c5-f45e-0764b16af449"
      },
      "execution_count": 7,
      "outputs": [
        {
          "output_type": "stream",
          "name": "stdout",
          "text": [
            "Test Accuracy: 57%\n"
          ]
        }
      ]
    }
  ]
}